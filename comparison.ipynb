{
 "cells": [
  {
   "cell_type": "code",
   "execution_count": null,
   "metadata": {},
   "outputs": [],
   "source": [
    "import sys\n",
    "import numpy as np\n",
    "import matplotlib.pyplot as plt\n",
    "\n",
    "sys.path.append('./')\n",
    "from planar_ising.planar_ising.inference_and_sampling import InferenceAndSampling\n",
    "from planar_ising.planar_ising.planar_ising_model_generator import PlanarIsingModelGenerator\n",
    "from planar_ising.planar_graph.planar_graph_edges import PlanarGraphEdges\n",
    "from planar_ising.planar_graph.planar_graph_generator import PlanarGraphGenerator\n",
    "\n",
    "from triangular_lattice_v4 import *\n",
    "from mpmath import matrix, mp, log, power, fadd, fmul, fdiv, mpf, zeros\n",
    "\n",
    "%load_ext autoreload\n",
    "%autoreload 2\n"
   ]
  },
  {
   "cell_type": "code",
   "execution_count": null,
   "metadata": {},
   "outputs": [],
   "source": [
    "# precision\n",
    "mp.dps = 150"
   ]
  },
  {
   "cell_type": "code",
   "execution_count": null,
   "metadata": {},
   "outputs": [],
   "source": [
    "def partition_function_method(sets,G,double_measurements):\n",
    "    q=mpf('2')\n",
    "    beta = log((q**2+1)/q)\n",
    "\n",
    "    jmatrix, E0 = model_couplings_high_prec(sets,G,double_measurements,tp = 'num')\n",
    "    jmatrix_planar = matrix(-beta*jmatrix)\n",
    "    ising_model = PlanarIsingModelGenerator.generate_triang_ising_model(database, \n",
    "                                                                        jmatrix_planar)\n",
    "    ising_inference = InferenceAndSampling(ising_model)\n",
    "    ising_inference.prepare()\n",
    "    log_partition_function = ising_inference.compute_logpf()\n",
    "    Snum  = -log_partition_function+0*beta*E0-np.log(0.5)\n",
    "    print('E0:', E0)\n",
    "    print('beta*E0:', beta*E0)\n",
    "\n",
    "    jmatrix,E0 = model_couplings_high_prec(sets,G,double_measurements,tp = 'denom') \n",
    "    jmatrix_planar = matrix(-beta*jmatrix)\n",
    "    print('beta*E0:', beta*E0)\n",
    "    ising_model = PlanarIsingModelGenerator.generate_triang_ising_model(database, \n",
    "                                                                        jmatrix_planar)\n",
    "    ising_inference = InferenceAndSampling(ising_model)\n",
    "    ising_inference.prepare()\n",
    "    log_partition_function = ising_inference.compute_logpf()\n",
    "    Sden  = -log_partition_function+0*beta*E0-np.log(0.5)\n",
    "    return Snum-Sden"
   ]
  },
  {
   "cell_type": "code",
   "execution_count": null,
   "metadata": {
    "scrolled": false
   },
   "outputs": [],
   "source": [
    "np.random.seed(1)\n",
    "Lph,T = 32,32\n",
    "L = int(Lph/2)+(int(Lph/2)%2)\n",
    "print('L', L)\n",
    "p = 1-(int(Lph/2)%2)\n",
    "# measurement probability\n",
    "\n",
    "prob=0.\n",
    "G=20\n",
    "\n",
    "#=================================================================================\n",
    "\n",
    "basisx,basisy,sets,measured,sole_measurements,double_measurements =\\\n",
    "trnglr_lattice(L,Lph,T,p,prob=prob)\n",
    "adjmatrix = allOR(sets)\n",
    "database = list_edges(adjmatrix,basisx,basisy)  \n",
    "\n",
    "##=================================================================================\n",
    "\n",
    "S1 = cellular_automaton_method(Lph,T,measured,smp_std=100000)\n",
    "S2 = partition_function_method(sets,G,double_measurements)\n",
    "\n",
    "print('CA method:',S1)\n",
    "print('PF method:',S2)"
   ]
  }
 ],
 "metadata": {
  "kernelspec": {
   "display_name": "Python 3",
   "language": "python",
   "name": "python3"
  }
 },
 "nbformat": 4,
 "nbformat_minor": 2
}
