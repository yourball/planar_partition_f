{
 "cells": [
  {
   "cell_type": "code",
   "execution_count": 197,
   "metadata": {},
   "outputs": [
    {
     "name": "stdout",
     "output_type": "stream",
     "text": [
      "The autoreload extension is already loaded. To reload it, use:\n",
      "  %reload_ext autoreload\n"
     ]
    }
   ],
   "source": [
    "import sys\n",
    "import numpy as np\n",
    "import matplotlib.pyplot as plt\n",
    "\n",
    "sys.path.append('./')\n",
    "from planar_ising.planar_ising.inference_and_sampling import InferenceAndSampling\n",
    "from planar_ising.planar_ising.planar_ising_model_generator import PlanarIsingModelGenerator\n",
    "from planar_ising.planar_graph.planar_graph_edges import PlanarGraphEdges\n",
    "from planar_ising.planar_graph.planar_graph_generator import PlanarGraphGenerator\n",
    "\n",
    "from triangular_lattice_v4 import *\n",
    "\n",
    "%load_ext autoreload\n",
    "%autoreload 2\n",
    "\n",
    "def partition_function_method(sets,G,double_measurements):\n",
    "    q=2\n",
    "    beta = np.log((q**2+1)/q)\n",
    "\n",
    "    jmatrix,E0 = model_couplings(sets,G,double_measurements,tp = 'num') \n",
    "    jmatrix_planar = -beta*jmatrix\n",
    "    ising_model = PlanarIsingModelGenerator.generate_triang_ising_model(database, jmatrix_planar)\n",
    "    ising_inference = InferenceAndSampling(ising_model)\n",
    "    ising_inference.prepare()\n",
    "    log_partition_function = ising_inference.compute_logpf()\n",
    "    Snum  = -log_partition_function+beta*E0-np.log(0.5)\n",
    "\n",
    "    jmatrix,E0 = model_couplings(sets,G,double_measurements,tp = 'denom') \n",
    "    jmatrix_planar = -beta*jmatrix\n",
    "    ising_model = PlanarIsingModelGenerator.generate_triang_ising_model(database, jmatrix_planar)\n",
    "    ising_inference = InferenceAndSampling(ising_model)\n",
    "    ising_inference.prepare()\n",
    "    log_partition_function = ising_inference.compute_logpf()\n",
    "    Sden  = -log_partition_function+beta*E0-np.log(0.5)\n",
    "    return Snum-Sden\n"
   ]
  },
  {
   "cell_type": "code",
   "execution_count": 199,
   "metadata": {},
   "outputs": [
    {
     "name": "stdout",
     "output_type": "stream",
     "text": [
      "CA method: 0.35435784258325587\n",
      "PF method: 0.35763774026486317\n"
     ]
    }
   ],
   "source": [
    "Lph,T = 16,16\n",
    "L = int(Lph/2)+(int(Lph/2)%2)\n",
    "p = 1-(int(Lph/2)%2)\n",
    "\n",
    "# measurement probability\n",
    "prob=0.25\n",
    "G=8\n",
    "\n",
    "#=================================================================================\n",
    "\n",
    "basisx,basisy,sets,measured,sole_measurements,double_measurements = trnglr_lattice(L,Lph,T,p,prob=prob)\n",
    "adjmatrix = allOR(sets)\n",
    "database = list_edges(adjmatrix,basisx,basisy)  \n",
    "\n",
    "##=================================================================================\n",
    "\n",
    "S1 = cellular_automaton_method(Lph,T,measured,smp_std=100000)\n",
    "S2 = partition_function_method(sets,G,double_measurements)\n",
    "\n",
    "print('CA method:',S1)\n",
    "print('PF method:',S2)"
   ]
  },
  {
   "cell_type": "code",
   "execution_count": null,
   "metadata": {},
   "outputs": [],
   "source": []
  }
 ],
 "metadata": {
  "kernelspec": {
   "display_name": "Python 3",
   "language": "python",
   "name": "python3"
  },
  "language_info": {
   "codemirror_mode": {
    "name": "ipython",
    "version": 3
   },
   "file_extension": ".py",
   "mimetype": "text/x-python",
   "name": "python",
   "nbconvert_exporter": "python",
   "pygments_lexer": "ipython3",
   "version": "3.7.3"
  }
 },
 "nbformat": 4,
 "nbformat_minor": 2
}
