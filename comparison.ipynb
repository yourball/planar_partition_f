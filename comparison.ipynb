{
 "cells": [
  {
   "cell_type": "code",
   "execution_count": 207,
   "metadata": {},
   "outputs": [
    {
     "name": "stdout",
     "output_type": "stream",
     "text": [
      "The autoreload extension is already loaded. To reload it, use:\n",
      "  %reload_ext autoreload\n"
     ]
    }
   ],
   "source": [
    "import sys\n",
    "import numpy as np\n",
    "import matplotlib.pyplot as plt\n",
    "\n",
    "sys.path.append('./')\n",
    "from planar_ising.planar_ising.inference_and_sampling import InferenceAndSampling\n",
    "from planar_ising.planar_ising.planar_ising_model_generator import PlanarIsingModelGenerator\n",
    "from planar_ising.planar_graph.planar_graph_edges import PlanarGraphEdges\n",
    "from planar_ising.planar_graph.planar_graph_generator import PlanarGraphGenerator\n",
    "\n",
    "from triangular_lattice2 import *\n",
    "\n",
    "%load_ext autoreload\n",
    "%autoreload 2"
   ]
  },
  {
   "cell_type": "code",
   "execution_count": 264,
   "metadata": {},
   "outputs": [],
   "source": [
    "Lph,T = 22,22\n",
    "\n",
    "q=2\n",
    "beta = np.log((q**2+1)/q)\n",
    "L = int(Lph/2)+(int(Lph/2)%2)\n",
    "p = 1-(int(Lph/2)%2)"
   ]
  },
  {
   "cell_type": "code",
   "execution_count": 271,
   "metadata": {},
   "outputs": [],
   "source": [
    "basisx,basisy,sets = trnglr_lattice(L,T,p)\n",
    "adjmatrix = allOR(sets)\n",
    "jmatrix,E0 = model_couplings(sets,G=10) \n",
    "database = list_edges(adjmatrix,basisx,basisy)\n",
    "#visualize(database,basisx,basisy,adjmatrix,jmatrix)  "
   ]
  },
  {
   "cell_type": "code",
   "execution_count": 272,
   "metadata": {},
   "outputs": [],
   "source": [
    "#S1 = partition_function_method(jmatrix,adjmatrix,E0,beta)\n",
    "#print(\"Partition function (direct):\",S1)\n",
    "#print(\"Cellular automaton:\",S2)"
   ]
  },
  {
   "cell_type": "code",
   "execution_count": 274,
   "metadata": {},
   "outputs": [
    {
     "name": "stdout",
     "output_type": "stream",
     "text": [
      "Exact: 4.841591862705236\n",
      "Apprx: 4.843202246813972\n"
     ]
    }
   ],
   "source": [
    "#jmatrix = random_couplings(adjmatrix)\n",
    "\n",
    "#jmatrix = jmatrix+E0*np.eye(len(jmatrix))/len(jmatrix)\n",
    "jmatrix_planar = -beta*jmatrix\n",
    "ising_model = PlanarIsingModelGenerator.generate_triang_ising_model(database, jmatrix_planar)\n",
    "ising_inference = InferenceAndSampling(ising_model)\n",
    "ising_inference.prepare()\n",
    "log_partition_function = ising_inference.compute_logpf()\n",
    "\n",
    "S = cellular_automaton_method(L=Lph,tmax=T)\n",
    "print('Exact:',S)\n",
    "print('Apprx:', -log_partition_function+beta*E0-np.log(0.5))"
   ]
  },
  {
   "cell_type": "code",
   "execution_count": null,
   "metadata": {},
   "outputs": [],
   "source": []
  },
  {
   "cell_type": "code",
   "execution_count": null,
   "metadata": {},
   "outputs": [],
   "source": []
  },
  {
   "cell_type": "code",
   "execution_count": null,
   "metadata": {},
   "outputs": [],
   "source": []
  },
  {
   "cell_type": "code",
   "execution_count": null,
   "metadata": {},
   "outputs": [],
   "source": []
  }
 ],
 "metadata": {
  "kernelspec": {
   "display_name": "Python 3",
   "language": "python",
   "name": "python3"
  },
  "language_info": {
   "codemirror_mode": {
    "name": "ipython",
    "version": 3
   },
   "file_extension": ".py",
   "mimetype": "text/x-python",
   "name": "python",
   "nbconvert_exporter": "python",
   "pygments_lexer": "ipython3",
   "version": "3.7.3"
  }
 },
 "nbformat": 4,
 "nbformat_minor": 2
}
